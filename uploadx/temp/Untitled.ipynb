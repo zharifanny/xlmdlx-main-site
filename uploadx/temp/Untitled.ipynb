{
 "cells": [
  {
   "cell_type": "code",
   "execution_count": 1,
   "id": "b1888ea7",
   "metadata": {},
   "outputs": [
    {
     "name": "stdout",
     "output_type": "stream",
     "text": [
      "SUDAH SAMPAI GAN. MATNAP GAS\n",
      "sudah sampai gas. mantap barangnya\n"
     ]
    }
   ],
   "source": [
    "kapital=('sudah sampai gan. matnap gas').upper()\n",
    "kecil=('sudah sampai gas. Mantap barangnya').lower()\n",
    "\n",
    "print(kapital)\n",
    "print(kecil)"
   ]
  },
  {
   "cell_type": "code",
   "execution_count": 2,
   "id": "cae9f721",
   "metadata": {},
   "outputs": [
    {
     "name": "stdout",
     "output_type": "stream",
     "text": [
      "['Pelayanan hotel sangan bagus sekali', ' menu makannya juga enak', ' Hotel yang sangan saya rekomendasikan']\n"
     ]
    }
   ],
   "source": [
    "paragraf=(\"Pelayanan hotel sangan bagus sekali. menu makannya juga enak. Hotel yang sangan saya rekomendasikan\")\n",
    "pisah_kalimat=paragraf.split(\".\")\n",
    "\n",
    "print(pisah_kalimat)"
   ]
  },
  {
   "cell_type": "code",
   "execution_count": 9,
   "id": "bcc9b9e4",
   "metadata": {},
   "outputs": [
    {
     "name": "stdout",
     "output_type": "stream",
     "text": [
      "['Kalimat utama paragraf tersebut teretak di awal paragraf.', 'Adapun kalimat berikutnya adalah kalimat penjelas.', 'kalimat penjelas itu menggambarkan rasa manis dari buah mangga.', 'Berdasarkan letak kalimat utama, paragraf terserbut adalah paragraf deduktif.', 'kemudian, berdasarksn isi, paragraf terserbut adalah pragraf deskripsi']\n"
     ]
    }
   ],
   "source": [
    "from nltk import tokenize\n",
    "paragraf2 = (\"Kalimat utama paragraf tersebut teretak di awal paragraf. Adapun kalimat berikutnya adalah kalimat penjelas. kalimat penjelas itu menggambarkan rasa manis dari buah mangga. Berdasarkan letak kalimat utama, paragraf terserbut adalah paragraf deduktif. kemudian, berdasarksn isi, paragraf terserbut adalah pragraf deskripsi \")\n",
    "pisah_kalimat1 = tokenize.sent_tokenize(paragraf2)\n",
    "print(pisah_kalimat1)"
   ]
  },
  {
   "cell_type": "code",
   "execution_count": 10,
   "id": "bf9f1bb0",
   "metadata": {},
   "outputs": [
    {
     "name": "stdout",
     "output_type": "stream",
     "text": [
      "['pelayan', 'hotel', 'sangat', 'bagus', 'sekali']\n"
     ]
    }
   ],
   "source": [
    "kalimat = (\"pelayan hotel sangat bagus sekali\").split()\n",
    "print(kalimat)"
   ]
  },
  {
   "cell_type": "code",
   "execution_count": 11,
   "id": "e0d364c9",
   "metadata": {},
   "outputs": [
    {
     "name": "stdout",
     "output_type": "stream",
     "text": [
      "['kalimat', 'utama', 'paragraf', 'tersebut', 'terletak', 'di', 'awal', 'paragraf']\n"
     ]
    }
   ],
   "source": [
    "from nltk.tokenize import word_tokenize\n",
    "\n",
    "token = word_tokenize(\"kalimat utama paragraf tersebut terletak di awal paragraf\")\n",
    "print(token)"
   ]
  },
  {
   "cell_type": "code",
   "execution_count": 12,
   "id": "d2e850c4",
   "metadata": {},
   "outputs": [],
   "source": [
    "#stopword\n",
    "data_stopword =['yang','di','ini','juga','dengan']\n",
    "sentence = (\"fasilitas di hotel ini lumayan lengkap, lokasi juga strategis dan staff yang melayani dengan ramah\")"
   ]
  },
  {
   "cell_type": "code",
   "execution_count": 13,
   "id": "292afbb8",
   "metadata": {},
   "outputs": [
    {
     "name": "stdout",
     "output_type": "stream",
     "text": [
      "['fasilitas', 'hotel', 'lumayan', 'lengkap,', 'lokasi', 'strategis', 'dan', 'staff', 'melayani', 'ramah']\n"
     ]
    }
   ],
   "source": [
    "word_tokenize=[]\n",
    "words = sentence.split()\n",
    "for word in words :\n",
    "    check = word in data_stopword\n",
    "    if not check:\n",
    "        word_tokenize.append(word)\n",
    "        \n",
    "print(word_tokenize)"
   ]
  },
  {
   "cell_type": "code",
   "execution_count": null,
   "id": "6fc08535",
   "metadata": {},
   "outputs": [],
   "source": []
  }
 ],
 "metadata": {
  "kernelspec": {
   "display_name": "Python 3 (ipykernel)",
   "language": "python",
   "name": "python3"
  },
  "language_info": {
   "codemirror_mode": {
    "name": "ipython",
    "version": 3
   },
   "file_extension": ".py",
   "mimetype": "text/x-python",
   "name": "python",
   "nbconvert_exporter": "python",
   "pygments_lexer": "ipython3",
   "version": "3.9.7"
  }
 },
 "nbformat": 4,
 "nbformat_minor": 5
}
